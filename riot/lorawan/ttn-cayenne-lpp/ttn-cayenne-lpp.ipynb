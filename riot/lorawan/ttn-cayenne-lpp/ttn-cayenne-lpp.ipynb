{
 "cells": [
  {
   "cell_type": "markdown",
   "metadata": {
    "tags": []
   },
   "source": [
    "## Publish LoRaWAN payloads to a myDevices Cayenne web dashboard\n",
    "\n",
    "### Introduction\n",
    "\n",
    "In the [LoRaWAN getting-started Notebook](../getting-started/lorawan-getting-started.ipynb), we learnt how to use LoRa boards available on IoT-LAB with [TheThingsNetwork LoRaWAN provider](https://www.thethingsnetwork.org/) (TTN). In addition to send/receive messages to/from the TTN backend, it is also possible to configure [integrations](https://www.thethingsnetwork.org/docs/applications/integrations.html) to a LoRaWAN network. One of these integrations is using webhooks, which allows to retrieve and display sensors data in customizable dashboards. This is what is used by a Cayenne application to interact with the TTNv3 LoRaWAN backend.\n",
    "\n",
    "- The first step of this Notebook is to configure the integration between a TTN application and myDevices Cayenne. This is explained in the next section.\n",
    "- The second step will be to implement the RIOT application. This is explained in the \"Write your RIOT application\" section.\n",
    "- The last step will guide you in the submission of an IoT-LAB experiment with one LoRa device\n",
    "\n",
    "### Configure the integration between a TTN application and myDevices Cayenne\n",
    "\n",
    "If you followed the **[LoRaWAN getting-started Notebook](../getting-started/lorawan-getting-started.ipynb)**, the only thing that you have to do is to configure the integration of your TTN application with myDevices Cayenne: this is simple, just follow **[this documentation](https://www.thethingsnetwork.org/docs/applications/cayenne/)**.\n",
    "\n",
    "### Write your RIOT application\n",
    "\n",
    "myDevices Cayenne requires the devices to encode the messages in a specific payload format called **[Cayenne LPP](https://developers.mydevices.com/cayenne/docs/lora/#lora-cayenne-low-power-payload)**. This format is a binary format designed to reduce the payload size (remember that LoRaWAN has a very low datarate) while remaining quite flexible: the format encodes several channels that contain different kind of sendor data types (temperature, relative humidity, etc).\n",
    "\n",
    "In the same directory as this notebook, you will find the 2 files of a basic RIOT application: `Makefile`, `main.c`. This application already contains code to read sensors, join a LoRaWAN and send a basic payload every 20s.\n",
    "\n",
    "You can double click the files in the JupyterLab browser to open them in new tabs and start editing them.\n",
    "\n",
    "As you can see, the application is already quite complete but the DEVEUI/APPEUI/APPKEY are empty (full of zeros) and the encoding to the Cayenne LPP format is missing in `main.c`. Fortunately, RIOT provides support for [a library for encoding to the Cayenne LPP](https://github.com/aabadie/cayenne-lpp). This is what will be used in this Notebook.\n",
    "\n",
    "1. Change the DEVEUI, APPEUI, APPKEY default values (see C static arrays lines 23 to 35 in main.c). These values are available in your TTN device management page.\n",
    "\n",
    "  **Note**: in the TTN device management page, you can switch the DEVEUI/APPEUI/APPKEY values from a plain hexadecimal string representation to a C array representation by clicking the `<>` button. Keep the _msb_ representation.\n",
    "  \n",
    "  **Important**: if you don't edit the deveui/appeui/appkey values, you device won't be able to join the network and send messages.\n",
    "\n",
    "2. Add the missing Cayenne LPP header (under `/* TODO: Add the cayenne_lpp header */`):\n",
    "\n",
    "```c\n",
    "#include \"cayenne_lpp.h\"\n",
    "```\n",
    "\n",
    "3. Declare globally Cayenne LPP descriptor:\n",
    "\n",
    "```c\n",
    "static cayenne_lpp_t lpp;\n",
    "```\n",
    "\n",
    "4. In the sender function, prepare the cayenne lpp payload with the temperature and relative humidity values measured:\n",
    "\n",
    "```c\n",
    "cayenne_lpp_add_temperature(&lpp, 0, (float)temperature / 10);\n",
    "cayenne_lpp_add_relative_humidity(&lpp, 1, (float)humidity / 10);\n",
    "```\n",
    "\n",
    "5. You have to replace the send of the dummy payload with the send of the cayenne lpp payload, e.g:\n",
    "\n",
    "```c\n",
    "uint8_t ret = semtech_loramac_send(&loramac, lpp.buffer, lpp.cursor);\n",
    "```\n",
    "\n",
    "instead of\n",
    "\n",
    "```c\n",
    "uint8_t ret = semtech_loramac_send(&loramac, (uint8_t *)message, strlen(message));\n",
    "```\n",
    "\n",
    "6. At the end of the while loop, you have to clear the cayenne lpp payload buffer between each send:\n",
    "\n",
    "```c\n",
    "cayenne_lpp_reset(&lpp);\n",
    "```\n",
    "\n",
    "7. You can now build the application:\n"
   ]
  },
  {
   "cell_type": "code",
   "execution_count": 4,
   "metadata": {},
   "outputs": [
    {
     "name": "stdout",
     "output_type": "stream",
     "text": [
      "\u001b[1;32mBuilding application \"cayenne\" for \"b-l072z-lrwan1\" with MCU \"stm32\".\u001b[0m\n",
      "\n",
      "\"make\" -C /home/jovyan/work/training/iot-lab-training/riot/RIOT/pkg/cayenne-lpp\n",
      "\"make\" -C /home/jovyan/work/training/iot-lab-training/riot/RIOT/build/pkg/cayenne-lpp -f /home/jovyan/work/training/iot-lab-training/riot/RIOT/Makefile.base\n",
      "\"make\" -C /home/jovyan/work/training/iot-lab-training/riot/RIOT/pkg/semtech-loramac\n",
      "\"make\" -C /home/jovyan/work/training/iot-lab-training/riot/RIOT/build/pkg/semtech-loramac/src/boards/mcu -f /home/jovyan/work/training/iot-lab-training/riot/RIOT/pkg/semtech-loramac/Makefile.loramac_arch\n",
      "\"make\" -C /home/jovyan/work/training/iot-lab-training/riot/RIOT/build/pkg/semtech-loramac/src/system/crypto -f /home/jovyan/work/training/iot-lab-training/riot/RIOT/pkg/semtech-loramac/Makefile.loramac_crypto\n",
      "\"make\" -C /home/jovyan/work/training/iot-lab-training/riot/RIOT/build/pkg/semtech-loramac/src/mac -f /home/jovyan/work/training/iot-lab-training/riot/RIOT/pkg/semtech-loramac/Makefile.loramac_mac\n",
      "\"make\" -C /home/jovyan/work/training/iot-lab-training/riot/RIOT/build/pkg/semtech-loramac/src/mac/region -f /home/jovyan/work/training/iot-lab-training/riot/RIOT/pkg/semtech-loramac/Makefile.loramac_region\n",
      "\"make\" -C /home/jovyan/work/training/iot-lab-training/riot/RIOT/boards/b-l072z-lrwan1\n",
      "\"make\" -C /home/jovyan/work/training/iot-lab-training/riot/RIOT/core\n",
      "\"make\" -C /home/jovyan/work/training/iot-lab-training/riot/RIOT/cpu/stm32\n",
      "\"make\" -C /home/jovyan/work/training/iot-lab-training/riot/RIOT/cpu/cortexm_common\n",
      "\"make\" -C /home/jovyan/work/training/iot-lab-training/riot/RIOT/cpu/cortexm_common/periph\n",
      "\"make\" -C /home/jovyan/work/training/iot-lab-training/riot/RIOT/cpu/stm32/periph\n",
      "\"make\" -C /home/jovyan/work/training/iot-lab-training/riot/RIOT/cpu/stm32/stmclk\n",
      "\"make\" -C /home/jovyan/work/training/iot-lab-training/riot/RIOT/cpu/stm32/vectors\n",
      "\"make\" -C /home/jovyan/work/training/iot-lab-training/riot/RIOT/drivers\n",
      "\"make\" -C /home/jovyan/work/training/iot-lab-training/riot/RIOT/drivers/hts221\n",
      "\"make\" -C /home/jovyan/work/training/iot-lab-training/riot/RIOT/drivers/periph_common\n",
      "\"make\" -C /home/jovyan/work/training/iot-lab-training/riot/RIOT/drivers/sx127x\n",
      "\"make\" -C /home/jovyan/work/training/iot-lab-training/riot/RIOT/pkg/semtech-loramac/contrib\n",
      "\"make\" -C /home/jovyan/work/training/iot-lab-training/riot/RIOT/sys\n",
      "\"make\" -C /home/jovyan/work/training/iot-lab-training/riot/RIOT/sys/auto_init\n",
      "\"make\" -C /home/jovyan/work/training/iot-lab-training/riot/RIOT/sys/crypto\n",
      "\"make\" -C /home/jovyan/work/training/iot-lab-training/riot/RIOT/sys/frac\n",
      "\"make\" -C /home/jovyan/work/training/iot-lab-training/riot/RIOT/sys/hashes\n",
      "\"make\" -C /home/jovyan/work/training/iot-lab-training/riot/RIOT/sys/iolist\n",
      "\"make\" -C /home/jovyan/work/training/iot-lab-training/riot/RIOT/sys/luid\n",
      "\"make\" -C /home/jovyan/work/training/iot-lab-training/riot/RIOT/sys/malloc_thread_safe\n",
      "\"make\" -C /home/jovyan/work/training/iot-lab-training/riot/RIOT/sys/newlib_syscalls_default\n",
      "\"make\" -C /home/jovyan/work/training/iot-lab-training/riot/RIOT/sys/pm_layered\n",
      "\"make\" -C /home/jovyan/work/training/iot-lab-training/riot/RIOT/sys/random\n",
      "\"make\" -C /home/jovyan/work/training/iot-lab-training/riot/RIOT/sys/stdio_uart\n",
      "\"make\" -C /home/jovyan/work/training/iot-lab-training/riot/RIOT/sys/ztimer\n",
      "   text\t   data\t    bss\t    dec\t    hex\tfilename\n",
      "  52816\t    228\t   5556\t  58600\t   e4e8\t/home/jovyan/work/training/iot-lab-training/riot/lorawan/ttn-cayenne-lpp/bin/b-l072z-lrwan1/cayenne.elf\n"
     ]
    }
   ],
   "source": [
    "!make"
   ]
  },
  {
   "cell_type": "markdown",
   "metadata": {},
   "source": [
    "### Experiment on IoT-LAB\n",
    "\n",
    "1. Submit an experiment on IoT-LAB"
   ]
  },
  {
   "cell_type": "code",
   "execution_count": 10,
   "metadata": {},
   "outputs": [
    {
     "name": "stdout",
     "output_type": "stream",
     "text": [
      "{\n",
      "    \"id\": 306685\n",
      "}\n"
     ]
    }
   ],
   "source": [
    "!iotlab-experiment submit -n \"ttn-cayenne-lpp\" -d 120 -l 1,archi=st-lrwan1:sx1276+site=saclay"
   ]
  },
  {
   "cell_type": "markdown",
   "metadata": {},
   "source": [
    "2. Wait for the experiment to be in the \"Running\" state:"
   ]
  },
  {
   "cell_type": "code",
   "execution_count": 11,
   "metadata": {},
   "outputs": [
    {
     "name": "stdout",
     "output_type": "stream",
     "text": [
      "Waiting that experiment 306685 gets in state Running\n",
      "\"Running\"\n"
     ]
    }
   ],
   "source": [
    "!iotlab-experiment wait --timeout 30 --cancel-on-timeout"
   ]
  },
  {
   "cell_type": "markdown",
   "metadata": {},
   "source": [
    "**Note:** If the command above returns the message `Timeout reached, cancelling experiment <exp_id>`, try to re-submit your experiment later.\n",
    "\n",
    "3. Open a separate terminal in the menu`File > New > Terminal` and open a terminal on your LoRa device:"
   ]
  },
  {
   "cell_type": "raw",
   "metadata": {},
   "source": [
    "make IOTLAB_NODE=auto -C riot/lorawan/ttn-cayenne-lpp term"
   ]
  },
  {
   "cell_type": "markdown",
   "metadata": {},
   "source": [
    "4. Finally flash your new application on the LoRa device:"
   ]
  },
  {
   "cell_type": "code",
   "execution_count": 3,
   "metadata": {},
   "outputs": [
    {
     "name": "stdout",
     "output_type": "stream",
     "text": [
      "iotlab-node --jmespath='keys(@)[0]' --format='lambda ret: exit(int(ret))'  --list saclay,st-lrwan1,12 --flash /home/jovyan/work/training/iot-lab-training/riot/lorawan/ttn-cayenne-lpp/bin/b-l072z-lrwan1/cayenne.bin\n"
     ]
    }
   ],
   "source": [
    "!make IOTLAB_NODE=auto flash-only"
   ]
  },
  {
   "cell_type": "markdown",
   "metadata": {},
   "source": [
    "In the terminal, you should see you device join the network with success and start sending payload to TTN.\n",
    "\n",
    "In your TTN console, look at the messages sent by the device and in myDevices Cayenne, the dashboard starts populating with new sensors values!\n",
    "\n",
    "### Going further\n",
    "\n",
    "Modify the RIOT application to add the `lps22hb` atmospheric pressure sensor values to the Cayenne LPP payload:\n",
    "- You can have a look at the [online documentation of the driver](http://doc.riot-os.org/group__drivers__lpsxxx.html)\n",
    "- You can have a look at the [test application code](https://github.com/RIOT-OS/RIOT/tree/master/tests/driver_lpsxxx) which provides driver API usage\n",
    "- Note that the module is called `lps22hb`"
   ]
  },
  {
   "cell_type": "markdown",
   "metadata": {},
   "source": [
    "### Free up the resources\n",
    "\n",
    "Since you finished the training, stop your experiment to free up the experiment nodes:"
   ]
  },
  {
   "cell_type": "code",
   "execution_count": 8,
   "metadata": {},
   "outputs": [
    {
     "name": "stdout",
     "output_type": "stream",
     "text": [
      "{\n",
      "    \"id\": 306684,\n",
      "    \"status\": \"Delete request registered\"\n",
      "}\n"
     ]
    }
   ],
   "source": [
    "!iotlab-experiment stop"
   ]
  },
  {
   "cell_type": "markdown",
   "metadata": {},
   "source": [
    "The serial link connection through SSH will be closed automatically."
   ]
  }
 ],
 "metadata": {
  "kernelspec": {
   "display_name": "Python 3 (ipykernel)",
   "language": "python",
   "name": "python3"
  },
  "language_info": {
   "codemirror_mode": {
    "name": "ipython",
    "version": 3
   },
   "file_extension": ".py",
   "mimetype": "text/x-python",
   "name": "python",
   "nbconvert_exporter": "python",
   "pygments_lexer": "ipython3",
   "version": "3.9.7"
  }
 },
 "nbformat": 4,
 "nbformat_minor": 4
}
