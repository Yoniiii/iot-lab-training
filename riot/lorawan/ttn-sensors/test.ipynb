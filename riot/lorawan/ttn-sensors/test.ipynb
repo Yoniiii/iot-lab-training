{
 "cells": [
  {
   "cell_type": "markdown",
   "metadata": {},
   "source": [
    "\n"
   ]
  },
  {
   "cell_type": "code",
   "execution_count": 1,
   "metadata": {},
   "outputs": [
    {
     "name": "stdout",
     "output_type": "stream",
     "text": [
      "\u001b[1;32mBuilding application \"ttn-sensors\" for \"b-l072z-lrwan1\" with MCU \"stm32\".\u001b[0m\n",
      "\n",
      "[INFO] cloning stm32cmsis\n",
      "Cloning into '/home/jovyan/work/training/iot-lab-training/riot/RIOT/build/stm32/cmsis/l0'...\n",
      "remote: Enumerating objects: 245, done.\u001b[K\n",
      "remote: Counting objects: 100% (245/245), done.\u001b[K\n",
      "remote: Compressing objects: 100% (60/60), done.\u001b[K\n",
      "remote: Total 245 (delta 196), reused 230 (delta 181), pack-reused 0\u001b[K\n",
      "Receiving objects: 100% (245/245), 267.72 KiB | 3.43 MiB/s, done.\n",
      "Resolving deltas: 100% (196/196), done.\n",
      "HEAD is now at 532d969 Release v1.9.2\n",
      "[INFO] updating stm32cmsis /home/jovyan/work/training/iot-lab-training/riot/RIOT/build/stm32/cmsis/l0/.pkg-state.git-downloaded\n",
      "echo 532d96973e7b2ae5546a2c88cb216429f74f5f5d   > /home/jovyan/work/training/iot-lab-training/riot/RIOT/build/stm32/cmsis/l0/.pkg-state.git-downloaded\n",
      "[INFO] patch stm32cmsis\n",
      "[INFO] cloning semtech-loramac\n",
      "Cloning into '/home/jovyan/work/training/iot-lab-training/riot/RIOT/build/pkg/semtech-loramac'...\n",
      "remote: Enumerating objects: 28012, done.\u001b[K\n",
      "remote: Counting objects: 100% (1637/1637), done.\u001b[K\n",
      "remote: Compressing objects: 100% (661/661), done.\u001b[K\n",
      "remote: Total 28012 (delta 951), reused 1458 (delta 875), pack-reused 26375\u001b[K\n",
      "Receiving objects: 100% (28012/28012), 26.96 MiB | 2.15 MiB/s, done.\n",
      "Resolving deltas: 100% (17980/17980), done.\n",
      "HEAD is now at 1cdd9cce Merge branch 'release/v4.4.1'\n",
      "[INFO] updating semtech-loramac /home/jovyan/work/training/iot-lab-training/riot/RIOT/build/pkg/semtech-loramac/.pkg-state.git-downloaded\n",
      "echo 1cdd9ccec4c9f05b616e7112059be4a9e358c571 > /home/jovyan/work/training/iot-lab-training/riot/RIOT/build/pkg/semtech-loramac/.pkg-state.git-downloaded\n",
      "[INFO] patch semtech-loramac\n",
      "\"make\" -C /home/jovyan/work/training/iot-lab-training/riot/RIOT/pkg/semtech-loramac\n",
      "\"make\" -C /home/jovyan/work/training/iot-lab-training/riot/RIOT/build/pkg/semtech-loramac/src/boards/mcu -f /home/jovyan/work/training/iot-lab-training/riot/RIOT/pkg/semtech-loramac/Makefile.loramac_arch\n",
      "\"make\" -C /home/jovyan/work/training/iot-lab-training/riot/RIOT/build/pkg/semtech-loramac/src/system/crypto -f /home/jovyan/work/training/iot-lab-training/riot/RIOT/pkg/semtech-loramac/Makefile.loramac_crypto\n",
      "\"make\" -C /home/jovyan/work/training/iot-lab-training/riot/RIOT/build/pkg/semtech-loramac/src/mac -f /home/jovyan/work/training/iot-lab-training/riot/RIOT/pkg/semtech-loramac/Makefile.loramac_mac\n",
      "\"make\" -C /home/jovyan/work/training/iot-lab-training/riot/RIOT/build/pkg/semtech-loramac/src/mac/region -f /home/jovyan/work/training/iot-lab-training/riot/RIOT/pkg/semtech-loramac/Makefile.loramac_region\n",
      "\"make\" -C /home/jovyan/work/training/iot-lab-training/riot/RIOT/boards/b-l072z-lrwan1\n",
      "\"make\" -C /home/jovyan/work/training/iot-lab-training/riot/RIOT/core\n",
      "\"make\" -C /home/jovyan/work/training/iot-lab-training/riot/RIOT/cpu/stm32\n",
      "\"make\" -C /home/jovyan/work/training/iot-lab-training/riot/RIOT/cpu/cortexm_common\n",
      "\"make\" -C /home/jovyan/work/training/iot-lab-training/riot/RIOT/cpu/cortexm_common/periph\n",
      "\"make\" -C /home/jovyan/work/training/iot-lab-training/riot/RIOT/cpu/stm32/periph\n",
      "\"make\" -C /home/jovyan/work/training/iot-lab-training/riot/RIOT/cpu/stm32/stmclk\n",
      "\"make\" -C /home/jovyan/work/training/iot-lab-training/riot/RIOT/cpu/stm32/vectors\n",
      "\"make\" -C /home/jovyan/work/training/iot-lab-training/riot/RIOT/drivers\n",
      "\"make\" -C /home/jovyan/work/training/iot-lab-training/riot/RIOT/drivers/hts221\n",
      "\"make\" -C /home/jovyan/work/training/iot-lab-training/riot/RIOT/drivers/periph_common\n",
      "\"make\" -C /home/jovyan/work/training/iot-lab-training/riot/RIOT/drivers/sx127x\n",
      "\"make\" -C /home/jovyan/work/training/iot-lab-training/riot/RIOT/pkg/semtech-loramac/contrib\n",
      "\"make\" -C /home/jovyan/work/training/iot-lab-training/riot/RIOT/sys\n",
      "\"make\" -C /home/jovyan/work/training/iot-lab-training/riot/RIOT/sys/auto_init\n",
      "\"make\" -C /home/jovyan/work/training/iot-lab-training/riot/RIOT/sys/crypto\n",
      "\"make\" -C /home/jovyan/work/training/iot-lab-training/riot/RIOT/sys/frac\n",
      "\"make\" -C /home/jovyan/work/training/iot-lab-training/riot/RIOT/sys/hashes\n",
      "\"make\" -C /home/jovyan/work/training/iot-lab-training/riot/RIOT/sys/iolist\n",
      "\"make\" -C /home/jovyan/work/training/iot-lab-training/riot/RIOT/sys/luid\n",
      "\"make\" -C /home/jovyan/work/training/iot-lab-training/riot/RIOT/sys/malloc_thread_safe\n",
      "\"make\" -C /home/jovyan/work/training/iot-lab-training/riot/RIOT/sys/newlib_syscalls_default\n",
      "\"make\" -C /home/jovyan/work/training/iot-lab-training/riot/RIOT/sys/pm_layered\n",
      "\"make\" -C /home/jovyan/work/training/iot-lab-training/riot/RIOT/sys/random\n",
      "\"make\" -C /home/jovyan/work/training/iot-lab-training/riot/RIOT/sys/stdio_uart\n",
      "\"make\" -C /home/jovyan/work/training/iot-lab-training/riot/RIOT/sys/ztimer\n",
      "   text\t   data\t    bss\t    dec\t    hex\tfilename\n",
      "  50760\t    228\t   5508\t  56496\t   dcb0\t/home/jovyan/work/training/iot-lab-training/riot/lorawan/ttn-sensors/bin/b-l072z-lrwan1/ttn-sensors.elf\n"
     ]
    }
   ],
   "source": [
    "!make"
   ]
  },
  {
   "cell_type": "markdown",
   "metadata": {},
   "source": [
    "### Start an experiment on IoT-LAB\n",
    "\n",
    "Now that we have a ready application, we can try it on the real hardware provided remotely by IoT-LAB.\n",
    "\n",
    "1. Submit an experiment with one LoRa device on IoT-LAB:"
   ]
  },
  {
   "cell_type": "code",
   "execution_count": 2,
   "metadata": {},
   "outputs": [
    {
     "name": "stdout",
     "output_type": "stream",
     "text": [
      "Using custom api_url: https://www.iot-lab.info/api/\n",
      "{\n",
      "    \"id\": 304272\n",
      "}\n"
     ]
    }
   ],
   "source": [
    "!iotlab-experiment submit -n \"Saclay\" -d 10 -l 2,site=saclay+archi=st-lrwan1:sx1276"
   ]
  },
  {
   "cell_type": "markdown",
   "metadata": {},
   "source": [
    "2. Wait for the experiment to be in the \"Running\" state:"
   ]
  },
  {
   "cell_type": "code",
   "execution_count": 3,
   "metadata": {},
   "outputs": [
    {
     "name": "stdout",
     "output_type": "stream",
     "text": [
      "Using custom api_url: https://www.iot-lab.info/api/\n",
      "Waiting that experiment 304272 gets in state Running\n",
      "\"Running\"\n"
     ]
    }
   ],
   "source": [
    "!iotlab-experiment wait --timeout 30 --cancel-on-timeout"
   ]
  },
  {
   "cell_type": "markdown",
   "metadata": {
    "tags": []
   },
   "source": [
    "**Note:** If the command above returns the message `Timeout reached, cancelling experiment <exp_id>`, try to re-submit your experiment later.\n",
    "\n",
    "3. Open a new terminal with the menu `File > New > Terminal` and in the terminal, run the following command to connect to the serial link of the LoRa board:"
   ]
  },
  {
   "cell_type": "raw",
   "metadata": {
    "tags": []
   },
   "source": [
    "!iotlab-experiment --jmespath=\"items[*].network_address | sort(@)\" get --nodes\n"
   ]
  },
  {
   "cell_type": "markdown",
   "metadata": {
    "tags": []
   },
   "source": [
    "**It is normal if nothing is printed: there's normally no firmware running on the board. The firmware will be flashed during the next step**\n",
    "\n",
    "**Keep this command running until the end of this notebook.**"
   ]
  },
  {
   "cell_type": "markdown",
   "metadata": {},
   "source": [
    "4. Build and flash the application on the LoRa board:"
   ]
  },
  {
   "cell_type": "code",
   "execution_count": 13,
   "metadata": {},
   "outputs": [
    {
     "name": "stdout",
     "output_type": "stream",
     "text": [
      "Using custom api_url: https://www.iot-lab.info/api/\n",
      "Using custom api_url: https://www.iot-lab.info/api/\n",
      "Using custom api_url: https://www.iot-lab.info/api/\n",
      "iotlab-node --jmespath='keys(@)[0]' --format='lambda ret: exit(int(ret))'  --list saclay,st-lrwan1,10 --flash /home/jovyan/work/training/iot-lab-training/riot/lorawan/ttn-sensors/bin/b-l072z-lrwan1/ttn-sensors.bin\n",
      "Using custom api_url: https://www.iot-lab.info/api/\n"
     ]
    }
   ],
   "source": [
    "!make IOTLAB_NODE=auto flash-only"
   ]
  },
  {
   "cell_type": "markdown",
   "metadata": {},
   "source": [
    "Once the flashing is complete, in the terminal, you should see the messages corresponding to the join procedure (\"Join procedure succeeed\") and the messages sent every 20s.\n",
    "\n",
    "If the device cannot join, verify the configured EUIs and the application key.\n",
    "\n",
    "If everything works as expected, you should see the decoded \"This is RIOT!\" messages appear in the **Live Data** tab of your application:\n",
    "\n",
    "\n",
    "<figure style=\"text-align:center\">\n",
    "    <img src=\"images/ttn-decoded-messages-received.png\" width=\"1262\" align=\"center\"/><br/><br/>\n",
    "    <figcaption><em>Decoded messages received in the TTN console</em></figcaption>\n",
    "</figure>\n",
    "\n",
    "### Read the sensor values\n",
    "\n",
    "Let's add the final step: read some sensor values from the [X-Nucleo extension shield](https://www.st.com/en/ecosystems/x-nucleo-iks01a2.html).\n",
    "\n",
    "The X-Nucleo extension shield provides several ST Microelectronics sensors including the **HTS221** which measures temperature and humidity. The microcontroller interacts with this sensor using the [I2C serial bus](https://en.wikipedia.org/wiki/I%C2%B2C).\n",
    "\n",
    "Let's now edit the [Makefile](Makefile) and [main.c](main.c) to read this sensor.\n",
    "\n",
    "1. To be able to use the _hts221_ sensor with RIOT, you must first load the corresponding RIOT module in the application's [Makefile](Makefile). Add the following line to the Makefile (under the addition of the `ztimer_msec` module):\n",
    "\n",
    "\n",
    "```mk\n",
    "USEMODULE += hts221\n",
    "```\n",
    "\n",
    "All dependency modules required by the sensor driver will be loaded automatically during compilation, in particular the I2C bus driver used by the board to communicate with the sensor.\n",
    "\n",
    "2. In the [main.c](main.c) file, Add the necessary header inclusions first (just below `#includes \"semtech_loramac.h\"`):\n",
    "\n",
    "\n",
    "```c\n",
    "#include \"hts221.h\"\n",
    "#include \"hts221_params.h\"\n",
    "```\n",
    "\n",
    "\n",
    "3. Declare the variable containing the driver descriptor of the sensor (below the declaration of the `loramac` variable):\n",
    "\n",
    "```c\n",
    "static hts221_t hts221;\n",
    "```\n",
    "\n",
    "4. At the very beginning of the `main` function, add this sensor driver initialization sequence:\n",
    "\n",
    "```c\n",
    "    if (hts221_init(&hts221, &hts221_params[0]) != HTS221_OK) {\n",
    "        puts(\"Sensor initialization failed\");\n",
    "        return 1;\n",
    "    }\n",
    "\n",
    "    if (hts221_power_on(&hts221) != HTS221_OK) {\n",
    "        puts(\"Sensor initialization power on failed\");\n",
    "        return 1;\n",
    "    }\n",
    "\n",
    "    if (hts221_set_rate(&hts221, hts221.p.rate) != HTS221_OK) {\n",
    "        puts(\"Sensor continuous mode setup failed\");\n",
    "        return 1;\n",
    "    }\n",
    "```\n",
    "\n",
    "This sequence is adapted from the [hts221 test appplication](https://github.com/RIOT-OS/RIOT/blob/master/tests/driver_hts221/main.c#L34-L45).\n",
    "\n",
    "5. Finally, add the following code at the beginning of the `while` loop to read the sensor data. You can also delete the line `char *message = \"This is RIOT!\"`\n",
    "which is now useless:\n",
    "\n",
    "```c\n",
    "        /* do some measurements */\n",
    "        uint16_t humidity = 0;\n",
    "        int16_t temperature = 0;\n",
    "        if (hts221_read_humidity(&hts221, &humidity) != HTS221_OK) {\n",
    "            puts(\"Cannot read humidity!\");\n",
    "        }\n",
    "        if (hts221_read_temperature(&hts221, &temperature) != HTS221_OK) {\n",
    "            puts(\"Cannot read temperature!\");\n",
    "        }\n",
    "\n",
    "        char message[64];\n",
    "        sprintf(message, \"H: %d.%d%%, T:%d.%dC\",\n",
    "                (humidity / 10), (humidity % 10),\n",
    "                (temperature / 10), (temperature % 10));\n",
    "        printf(\"Sending message '%s'\\n\", message);\n",
    "```\n",
    "\n",
    "6. Build and flash the new application to the LoRa board of your experiment:"
   ]
  },
  {
   "cell_type": "code",
   "execution_count": 14,
   "metadata": {},
   "outputs": [
    {
     "name": "stdout",
     "output_type": "stream",
     "text": [
      "/home/jovyan/work/training/iot-lab-training/riot/lorawan/ttn-sensors\n"
     ]
    }
   ],
   "source": [
    "!pwd"
   ]
  },
  {
   "cell_type": "code",
   "execution_count": 15,
   "metadata": {},
   "outputs": [
    {
     "name": "stdout",
     "output_type": "stream",
     "text": [
      "Using custom api_url: https://www.iot-lab.info/api/\n",
      "Using custom api_url: https://www.iot-lab.info/api/\n",
      "Using custom api_url: https://www.iot-lab.info/api/\n",
      "\u001b[1;32mBuilding application \"ttn-sensors\" for \"b-l072z-lrwan1\" with MCU \"stm32\".\u001b[0m\n",
      "\n",
      "\"make\" -C /home/jovyan/work/training/iot-lab-training/riot/RIOT/pkg/semtech-loramac\n",
      "\"make\" -C /home/jovyan/work/training/iot-lab-training/riot/RIOT/build/pkg/semtech-loramac/src/boards/mcu -f /home/jovyan/work/training/iot-lab-training/riot/RIOT/pkg/semtech-loramac/Makefile.loramac_arch\n",
      "\"make\" -C /home/jovyan/work/training/iot-lab-training/riot/RIOT/build/pkg/semtech-loramac/src/system/crypto -f /home/jovyan/work/training/iot-lab-training/riot/RIOT/pkg/semtech-loramac/Makefile.loramac_crypto\n",
      "\"make\" -C /home/jovyan/work/training/iot-lab-training/riot/RIOT/build/pkg/semtech-loramac/src/mac -f /home/jovyan/work/training/iot-lab-training/riot/RIOT/pkg/semtech-loramac/Makefile.loramac_mac\n",
      "\"make\" -C /home/jovyan/work/training/iot-lab-training/riot/RIOT/build/pkg/semtech-loramac/src/mac/region -f /home/jovyan/work/training/iot-lab-training/riot/RIOT/pkg/semtech-loramac/Makefile.loramac_region\n",
      "\"make\" -C /home/jovyan/work/training/iot-lab-training/riot/RIOT/boards/b-l072z-lrwan1\n",
      "\"make\" -C /home/jovyan/work/training/iot-lab-training/riot/RIOT/core\n",
      "\"make\" -C /home/jovyan/work/training/iot-lab-training/riot/RIOT/cpu/stm32\n",
      "\"make\" -C /home/jovyan/work/training/iot-lab-training/riot/RIOT/cpu/cortexm_common\n",
      "\"make\" -C /home/jovyan/work/training/iot-lab-training/riot/RIOT/cpu/cortexm_common/periph\n",
      "\"make\" -C /home/jovyan/work/training/iot-lab-training/riot/RIOT/cpu/stm32/periph\n",
      "\"make\" -C /home/jovyan/work/training/iot-lab-training/riot/RIOT/cpu/stm32/stmclk\n",
      "\"make\" -C /home/jovyan/work/training/iot-lab-training/riot/RIOT/cpu/stm32/vectors\n",
      "\"make\" -C /home/jovyan/work/training/iot-lab-training/riot/RIOT/drivers\n",
      "\"make\" -C /home/jovyan/work/training/iot-lab-training/riot/RIOT/drivers/hts221\n",
      "\"make\" -C /home/jovyan/work/training/iot-lab-training/riot/RIOT/drivers/periph_common\n",
      "\"make\" -C /home/jovyan/work/training/iot-lab-training/riot/RIOT/drivers/sx127x\n",
      "\"make\" -C /home/jovyan/work/training/iot-lab-training/riot/RIOT/pkg/semtech-loramac/contrib\n",
      "\"make\" -C /home/jovyan/work/training/iot-lab-training/riot/RIOT/sys\n",
      "\"make\" -C /home/jovyan/work/training/iot-lab-training/riot/RIOT/sys/auto_init\n",
      "\"make\" -C /home/jovyan/work/training/iot-lab-training/riot/RIOT/sys/crypto\n",
      "\"make\" -C /home/jovyan/work/training/iot-lab-training/riot/RIOT/sys/frac\n",
      "\"make\" -C /home/jovyan/work/training/iot-lab-training/riot/RIOT/sys/hashes\n",
      "\"make\" -C /home/jovyan/work/training/iot-lab-training/riot/RIOT/sys/iolist\n",
      "\"make\" -C /home/jovyan/work/training/iot-lab-training/riot/RIOT/sys/luid\n",
      "\"make\" -C /home/jovyan/work/training/iot-lab-training/riot/RIOT/sys/malloc_thread_safe\n",
      "\"make\" -C /home/jovyan/work/training/iot-lab-training/riot/RIOT/sys/newlib_syscalls_default\n",
      "\"make\" -C /home/jovyan/work/training/iot-lab-training/riot/RIOT/sys/pm_layered\n",
      "\"make\" -C /home/jovyan/work/training/iot-lab-training/riot/RIOT/sys/random\n",
      "\"make\" -C /home/jovyan/work/training/iot-lab-training/riot/RIOT/sys/stdio_uart\n",
      "\"make\" -C /home/jovyan/work/training/iot-lab-training/riot/RIOT/sys/ztimer\n",
      "   text\t   data\t    bss\t    dec\t    hex\tfilename\n",
      "  50760\t    228\t   5508\t  56496\t   dcb0\t/home/jovyan/work/training/iot-lab-training/riot/lorawan/ttn-sensors/bin/b-l072z-lrwan1/ttn-sensors.elf\n",
      "iotlab-node --jmespath='keys(@)[0]' --format='lambda ret: exit(int(ret))'  --list saclay,st-lrwan1,10 --flash /home/jovyan/work/training/iot-lab-training/riot/lorawan/ttn-sensors/bin/b-l072z-lrwan1/ttn-sensors.bin\n",
      "Using custom api_url: https://www.iot-lab.info/api/\n"
     ]
    }
   ],
   "source": [
    "!make IOTLAB_NODE=auto flash"
   ]
  },
  {
   "cell_type": "markdown",
   "metadata": {},
   "source": [
    "Now you can switch back to the terminal that is connected to the serial port of the LoRa board: **a new join procedure should be performed and the sensor data are sent every 20s to TTN**.\n",
    "\n",
    "<figure style=\"text-align:center\">\n",
    "    <img src=\"images/ttn-sensor-data.png\" width=\"1332\" align=\"center\"/><br/><br/>\n",
    "    <figcaption><em>Sensor data received in the TTN console</em></figcaption>\n",
    "</figure>\n"
   ]
  },
  {
   "cell_type": "markdown",
   "metadata": {},
   "source": [
    "### Free up the resources\n",
    "\n",
    "Since you finished the training, stop your experiment to free up the experiment nodes:"
   ]
  },
  {
   "cell_type": "code",
   "execution_count": 16,
   "metadata": {},
   "outputs": [
    {
     "name": "stdout",
     "output_type": "stream",
     "text": [
      "Using custom api_url: https://www.iot-lab.info/api/\n",
      "{\n",
      "    \"id\": 304134,\n",
      "    \"status\": \"Delete request registered\"\n",
      "}\n"
     ]
    }
   ],
   "source": [
    "!iotlab-experiment stop"
   ]
  },
  {
   "cell_type": "markdown",
   "metadata": {},
   "source": [
    "The serial link connection through SSH will be closed automatically."
   ]
  }
 ],
 "metadata": {
  "kernelspec": {
   "display_name": "Python 3 (ipykernel)",
   "language": "python",
   "name": "python3"
  },
  "language_info": {
   "codemirror_mode": {
    "name": "ipython",
    "version": 3
   },
   "file_extension": ".py",
   "mimetype": "text/x-python",
   "name": "python",
   "nbconvert_exporter": "python",
   "pygments_lexer": "ipython3",
   "version": "3.9.7"
  }
 },
 "nbformat": 4,
 "nbformat_minor": 4
}
