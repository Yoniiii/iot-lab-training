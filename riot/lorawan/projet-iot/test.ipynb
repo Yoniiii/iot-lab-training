{
 "cells": [
  {
   "cell_type": "code",
   "execution_count": 1,
   "id": "2e63813f-3026-4e27-ab16-e5d9eae0a607",
   "metadata": {},
   "outputs": [
    {
     "name": "stdout",
     "output_type": "stream",
     "text": [
      "\u001b[1;32mBuilding application \"cayenne\" for \"b-l072z-lrwan1\" with MCU \"stm32\".\u001b[0m\n",
      "\n",
      "\"make\" -C /home/jovyan/work/training/iot-lab-training/riot/RIOT/pkg/cayenne-lpp\n",
      "\"make\" -C /home/jovyan/work/training/iot-lab-training/riot/RIOT/build/pkg/cayenne-lpp -f /home/jovyan/work/training/iot-lab-training/riot/RIOT/Makefile.base\n",
      "\"make\" -C /home/jovyan/work/training/iot-lab-training/riot/RIOT/pkg/semtech-loramac\n",
      "\"make\" -C /home/jovyan/work/training/iot-lab-training/riot/RIOT/build/pkg/semtech-loramac/src/boards/mcu -f /home/jovyan/work/training/iot-lab-training/riot/RIOT/pkg/semtech-loramac/Makefile.loramac_arch\n",
      "\"make\" -C /home/jovyan/work/training/iot-lab-training/riot/RIOT/build/pkg/semtech-loramac/src/system/crypto -f /home/jovyan/work/training/iot-lab-training/riot/RIOT/pkg/semtech-loramac/Makefile.loramac_crypto\n",
      "\"make\" -C /home/jovyan/work/training/iot-lab-training/riot/RIOT/build/pkg/semtech-loramac/src/mac -f /home/jovyan/work/training/iot-lab-training/riot/RIOT/pkg/semtech-loramac/Makefile.loramac_mac\n",
      "\"make\" -C /home/jovyan/work/training/iot-lab-training/riot/RIOT/build/pkg/semtech-loramac/src/mac/region -f /home/jovyan/work/training/iot-lab-training/riot/RIOT/pkg/semtech-loramac/Makefile.loramac_region\n",
      "\"make\" -C /home/jovyan/work/training/iot-lab-training/riot/RIOT/boards/b-l072z-lrwan1\n",
      "\"make\" -C /home/jovyan/work/training/iot-lab-training/riot/RIOT/core\n",
      "\"make\" -C /home/jovyan/work/training/iot-lab-training/riot/RIOT/cpu/stm32\n",
      "\"make\" -C /home/jovyan/work/training/iot-lab-training/riot/RIOT/cpu/cortexm_common\n",
      "\"make\" -C /home/jovyan/work/training/iot-lab-training/riot/RIOT/cpu/cortexm_common/periph\n",
      "\"make\" -C /home/jovyan/work/training/iot-lab-training/riot/RIOT/cpu/stm32/periph\n",
      "\"make\" -C /home/jovyan/work/training/iot-lab-training/riot/RIOT/cpu/stm32/stmclk\n",
      "\"make\" -C /home/jovyan/work/training/iot-lab-training/riot/RIOT/cpu/stm32/vectors\n",
      "\"make\" -C /home/jovyan/work/training/iot-lab-training/riot/RIOT/drivers\n",
      "\"make\" -C /home/jovyan/work/training/iot-lab-training/riot/RIOT/drivers/hts221\n",
      "\"make\" -C /home/jovyan/work/training/iot-lab-training/riot/RIOT/drivers/periph_common\n",
      "\"make\" -C /home/jovyan/work/training/iot-lab-training/riot/RIOT/drivers/sx127x\n",
      "\"make\" -C /home/jovyan/work/training/iot-lab-training/riot/RIOT/pkg/semtech-loramac/contrib\n",
      "\"make\" -C /home/jovyan/work/training/iot-lab-training/riot/RIOT/sys\n",
      "\"make\" -C /home/jovyan/work/training/iot-lab-training/riot/RIOT/sys/auto_init\n",
      "\"make\" -C /home/jovyan/work/training/iot-lab-training/riot/RIOT/sys/crypto\n",
      "\"make\" -C /home/jovyan/work/training/iot-lab-training/riot/RIOT/sys/frac\n",
      "\"make\" -C /home/jovyan/work/training/iot-lab-training/riot/RIOT/sys/hashes\n",
      "\"make\" -C /home/jovyan/work/training/iot-lab-training/riot/RIOT/sys/iolist\n",
      "\"make\" -C /home/jovyan/work/training/iot-lab-training/riot/RIOT/sys/luid\n",
      "\"make\" -C /home/jovyan/work/training/iot-lab-training/riot/RIOT/sys/malloc_thread_safe\n",
      "\"make\" -C /home/jovyan/work/training/iot-lab-training/riot/RIOT/sys/newlib_syscalls_default\n",
      "\"make\" -C /home/jovyan/work/training/iot-lab-training/riot/RIOT/sys/pm_layered\n",
      "\"make\" -C /home/jovyan/work/training/iot-lab-training/riot/RIOT/sys/random\n",
      "\"make\" -C /home/jovyan/work/training/iot-lab-training/riot/RIOT/sys/stdio_uart\n",
      "\"make\" -C /home/jovyan/work/training/iot-lab-training/riot/RIOT/sys/ztimer\n",
      "   text\t   data\t    bss\t    dec\t    hex\tfilename\n",
      "  52816\t    228\t   5556\t  58600\t   e4e8\t/home/jovyan/work/training/iot-lab-training/riot/lorawan/projet-iot/bin/b-l072z-lrwan1/cayenne.elf\n"
     ]
    }
   ],
   "source": [
    "!make "
   ]
  },
  {
   "cell_type": "code",
   "execution_count": 2,
   "id": "16754152-deeb-4a3e-9bb7-682930290e89",
   "metadata": {},
   "outputs": [
    {
     "name": "stdout",
     "output_type": "stream",
     "text": [
      "{\n",
      "    \"id\": 306767\n",
      "}\n"
     ]
    }
   ],
   "source": [
    "!iotlab-experiment submit -n \"ttn-cayenne-lpp\" -d 120 -l 1,archi=st-lrwan1:sx1276+site=saclay"
   ]
  },
  {
   "cell_type": "code",
   "execution_count": 5,
   "id": "9f5ae22a-0308-4b01-a7f7-76b0469b28fe",
   "metadata": {},
   "outputs": [
    {
     "ename": "SyntaxError",
     "evalue": "invalid syntax (1763374294.py, line 1)",
     "output_type": "error",
     "traceback": [
      "\u001b[0;36m  Input \u001b[0;32mIn [5]\u001b[0;36m\u001b[0m\n\u001b[0;31m    make IOTLAB_NODE=auto -C riot/lorawan/projet-iot term\u001b[0m\n\u001b[0m         ^\u001b[0m\n\u001b[0;31mSyntaxError\u001b[0m\u001b[0;31m:\u001b[0m invalid syntax\n"
     ]
    }
   ],
   "source": [
    "make IOTLAB_NODE=auto -C riot/lorawan/projet-iot term"
   ]
  },
  {
   "cell_type": "code",
   "execution_count": 6,
   "id": "4247ac75-9db5-49dc-999b-b17249ec0e22",
   "metadata": {},
   "outputs": [
    {
     "name": "stdout",
     "output_type": "stream",
     "text": [
      "iotlab-node --jmespath='keys(@)[0]' --format='lambda ret: exit(int(ret))'  --list saclay,st-lrwan1,15 --flash /home/jovyan/work/training/iot-lab-training/riot/lorawan/projet-iot/bin/b-l072z-lrwan1/cayenne.bin\n"
     ]
    }
   ],
   "source": [
    "!make IOTLAB_NODE=auto flash-only"
   ]
  },
  {
   "cell_type": "code",
   "execution_count": null,
   "id": "2aa2828b-5552-42d9-a95b-54ca1e590a6d",
   "metadata": {},
   "outputs": [],
   "source": [
    "!iotlab-experiment stop"
   ]
  }
 ],
 "metadata": {
  "kernelspec": {
   "display_name": "Python 3 (ipykernel)",
   "language": "python",
   "name": "python3"
  },
  "language_info": {
   "codemirror_mode": {
    "name": "ipython",
    "version": 3
   },
   "file_extension": ".py",
   "mimetype": "text/x-python",
   "name": "python",
   "nbconvert_exporter": "python",
   "pygments_lexer": "ipython3",
   "version": "3.9.7"
  }
 },
 "nbformat": 4,
 "nbformat_minor": 5
}
